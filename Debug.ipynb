{
 "cells": [
  {
   "cell_type": "code",
   "execution_count": 30,
   "id": "e3fe6ef4-756f-421a-a408-b9eeeeaa95c9",
   "metadata": {
    "tags": []
   },
   "outputs": [
    {
     "name": "stdout",
     "output_type": "stream",
     "text": [
      "{'spotify': '143', 'Firefox': '158'}\n"
     ]
    }
   ],
   "source": [
    "import subprocess\n",
    "import re\n",
    "\n",
    "# Define the command to run\n",
    "cmd = ['pactl', 'list', 'sink-inputs']\n",
    "\n",
    "# Run the command and capture its output as a byte string\n",
    "output_bytes = subprocess.check_output(cmd)\n",
    "\n",
    "# Convert the byte string to a regular string using UTF-8 encoding\n",
    "output_str = output_bytes.decode('utf-8')\n",
    "\n",
    "sinks = {}\n",
    "\n",
    "# Print the output\n",
    "for s in output_str.split('\\n\\n'):\n",
    "    app_re = re.search(r'application\\.name\\s?\\=\\s?([\\\"\\'\\w\\d\\ ]+)', s)\n",
    "    id_re = re.search(r'Sink Input #([\\w\\ \\d]+)', s)\n",
    "    \n",
    "    app = app_re.group(1).replace('\"', '')\n",
    "    input_id = id_re.group(1)\n",
    "    \n",
    "    sinks[app] = input_id\n",
    "\n",
    "print(sinks)"
   ]
  }
 ],
 "metadata": {
  "kernelspec": {
   "display_name": "Python 3 (ipykernel)",
   "language": "python",
   "name": "python3"
  },
  "language_info": {
   "codemirror_mode": {
    "name": "ipython",
    "version": 3
   },
   "file_extension": ".py",
   "mimetype": "text/x-python",
   "name": "python",
   "nbconvert_exporter": "python",
   "pygments_lexer": "ipython3",
   "version": "3.10.9"
  }
 },
 "nbformat": 4,
 "nbformat_minor": 5
}
